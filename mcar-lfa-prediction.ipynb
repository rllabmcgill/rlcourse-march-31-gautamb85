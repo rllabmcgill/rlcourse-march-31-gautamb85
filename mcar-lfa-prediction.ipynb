{
 "cells": [
  {
   "cell_type": "markdown",
   "metadata": {
    "collapsed": false
   },
   "source": [
    "## On-Policy Prediction with Linear Approximation"
   ]
  },
  {
   "cell_type": "markdown",
   "metadata": {},
   "source": [
    "In this assignment I consider 3 TD-based algorithms for value prediction, namely, semi-gradient TD(0), TD with TD correction and Least-Squares TD. Experiments show that none of the algorithms converge for the specific environment considered in this task. However,they behave quite differently. \n",
    "\n",
    "- Standard semi-gradient TD diverges from the start.\n",
    "- TD with error correction (from fast gradient TD paper) starts to converge, but eventually diverges later during training\n",
    "- Least Squares TD behaves more erratically. It also initially converges (more slowly than TDC), however shows more fluctuation\n",
    "\n",
    "Random policies were considered for all the algorithms in this notebook.\n",
    "\n",
    "In order to insure that there was no problem with the RBF features used, I also evaluated 2 contol algorithms (presented in another notebook). Both those agorithms were able to solve the task,i.e. get the car up the mountain, hence confirming that the feature processing was done correctly."
   ]
  },
  {
   "cell_type": "code",
   "execution_count": 47,
   "metadata": {
    "collapsed": false
   },
   "outputs": [],
   "source": [
    "%matplotlib inline\n",
    "\n",
    "import gym\n",
    "import itertools\n",
    "import matplotlib\n",
    "import numpy as np\n",
    "import sys\n",
    "import sklearn.pipeline\n",
    "import sklearn.preprocessing\n",
    "import matplotlib.pyplot as plt\n",
    "if \"../\" not in sys.path:\n",
    "  sys.path.append(\"../\") \n",
    "from lib import plotting\n",
    "from sklearn.linear_model import SGDRegressor\n",
    "from sklearn.kernel_approximation import RBFSampler\n",
    "\n",
    "matplotlib.style.use('ggplot')"
   ]
  },
  {
   "cell_type": "markdown",
   "metadata": {},
   "source": [
    "The mountain car enviroment is represents a good candidate for value function approximation. This is because the state space is continuous. The state of the mountain car is given by its 2-dimensional co-ordinates. The lowest point is [-1.2 , -0.07], which the co-ordinates of top of the mountain are [0.6 ,0.07]. The goal of course, is to get the car to the top of the mountain."
   ]
  },
  {
   "cell_type": "code",
   "execution_count": 48,
   "metadata": {
    "collapsed": false
   },
   "outputs": [
    {
     "name": "stderr",
     "output_type": "stream",
     "text": [
      "[2017-03-30 22:55:46,952] Making new env: MountainCar-v0\n"
     ]
    },
    {
     "data": {
      "image/png": "[encoded data removed]",
      "text/plain": [
       "<matplotlib.figure.Figure at 0x7f8a9f82cfd0>"
      ]
     },
     "metadata": {},
     "output_type": "display_data"
    },
    {
     "data": {
      "image/png": "[encoded data removed]",
      "text/plain": [
       "<matplotlib.figure.Figure at 0x7f8aa244da90>"
      ]
     },
     "metadata": {},
     "output_type": "display_data"
    }
   ],
   "source": [
    "env = gym.envs.make(\"MountainCar-v0\")\n",
    "\n",
    "env.reset()\n",
    "plt.figure()\n",
    "plt.imshow(env.render(mode='rgb_array'))\n",
    "\n",
    "[env.step(0) for x in range(10000)]\n",
    "plt.figure()\n",
    "plt.imshow(env.render(mode='rgb_array'))\n",
    "\n",
    "env.render(close=True)"
   ]
  },
  {
   "cell_type": "markdown",
   "metadata": {},
   "source": [
    "There are several ways in which the states can be converted to features. I used Radial Basis Fuctions to featurize the states. 10000 random state samples are taken from the enviroment for training the RBF sampler."
   ]
  },
  {
   "cell_type": "code",
   "execution_count": 49,
   "metadata": {
    "collapsed": true
   },
   "outputs": [],
   "source": [
    "#collect some s-a-s triplets for calculating RMSBE\n",
    "observation_examples = np.array([env.observation_space.sample() for x in range(10000)])\n",
    "sample_states=[]\n",
    "for st in observation_examples:\n",
    "    action = np.random.randint(0,2)\n",
    "    next_state, reward, done, _ = env.step(action)\n",
    "    sample_states.append((st,next_state,reward))\n",
    "    "
   ]
  },
  {
   "cell_type": "code",
   "execution_count": 50,
   "metadata": {
    "collapsed": false
   },
   "outputs": [
    {
     "data": {
      "text/plain": [
       "FeatureUnion(n_jobs=1,\n",
       "       transformer_list=[('rbf1', RBFSampler(gamma=5.0, n_components=100, random_state=None)), ('rbf2', RBFSampler(gamma=2.0, n_components=100, random_state=None)), ('rbf3', RBFSampler(gamma=1.0, n_components=100, random_state=None)), ('rbf4', RBFSampler(gamma=0.5, n_components=100, random_state=None))],\n",
       "       transformer_weights=None)"
      ]
     },
     "execution_count": 50,
     "metadata": {},
     "output_type": "execute_result"
    }
   ],
   "source": [
    "# Feature Preprocessing: Normalize to zero mean and unit variance\n",
    "# We use a few samples from the observation space to do this\n",
    "observation_examples = np.array([env.observation_space.sample() for x in range(10000)])\n",
    "\n",
    "scaler = sklearn.preprocessing.StandardScaler()\n",
    "scaler.fit(observation_examples)\n",
    "\n",
    "# Used to converte a state to a featurizes represenation.\n",
    "# We use RBF kernels with different variances to cover different parts of the space\n",
    "featurizer = sklearn.pipeline.FeatureUnion([\n",
    "        (\"rbf1\", RBFSampler(gamma=5.0, n_components=100)),\n",
    "        (\"rbf2\", RBFSampler(gamma=2.0, n_components=100)),\n",
    "        (\"rbf3\", RBFSampler(gamma=1.0, n_components=100)),\n",
    "        (\"rbf4\", RBFSampler(gamma=0.5, n_components=100))\n",
    "        ])\n",
    "featurizer.fit(scaler.transform(observation_examples))"
   ]
  },
  {
   "cell_type": "code",
   "execution_count": 51,
   "metadata": {
    "collapsed": true
   },
   "outputs": [],
   "source": [
    "def featurize_state(state):\n",
    "        \"\"\"\n",
    "        Returns the featurized representation for a state.\n",
    "        \"\"\"\n",
    "        scaled = scaler.transform([state])\n",
    "        featurized = featurizer.transform(scaled)\n",
    "        return featurized[0]"
   ]
  },
  {
   "cell_type": "markdown",
   "metadata": {},
   "source": [
    "### semi-gradient TD"
   ]
  },
  {
   "cell_type": "code",
   "execution_count": 91,
   "metadata": {
    "collapsed": false
   },
   "outputs": [],
   "source": [
    "def sgTD(env, Theta, num_episodes, discount_factor=1.0, epsilon=0.1, epsilon_decay=1.0):\n",
    "  \n",
    "\n",
    "    # Keeps track of useful statistics\n",
    "    stats = plotting.EpisodeStats(\n",
    "        episode_lengths=np.zeros(num_episodes),\n",
    "        episode_rewards=np.zeros(num_episodes))    \n",
    "    \n",
    "    count=0\n",
    "    rmsbe_states=[]\n",
    "    cc=0\n",
    "    rms=[]\n",
    "    for i_episode in range(num_episodes):\n",
    "        \n",
    "        # The policy we're following\n",
    "        policy = make_epsilon_greedy_policy(\n",
    "            Theta, epsilon * epsilon_decay**i_episode, env.action_space.n)\n",
    "        \n",
    "        # Print out which episode we're on, useful for debugging.\n",
    "        # Also print reward for last episode\n",
    "        last_reward = stats.episode_rewards[i_episode - 1]\n",
    "        sys.stdout.flush()\n",
    "        \n",
    "        # Reset the environment and pick the first action\n",
    "        state = env.reset()\n",
    "        \n",
    "        # Only used for SARSA, not Q-Learning\n",
    "        next_action = None\n",
    "        \n",
    "        # One step in the environment\n",
    "        for t in itertools.count():\n",
    "            BErms=0\n",
    "            #featurize present state and predict its value\n",
    "            phi_s = featurize_state(state)\n",
    "            q_values_s = np.dot(Theta.T,phi_s)\n",
    "            # Choose an action to take\n",
    "            # If we're using SARSA we already decided in the previous step\n",
    "            \n",
    "            #if next_action is None:\n",
    "                #action_probs = policy(state)\n",
    "                #action = np.random.choice(np.arange(len(action_probs)), p=action_probs)\n",
    "            #else:\n",
    "                #action = next_action\n",
    "            \n",
    "            action_probs = policy(state)\n",
    "            action = np.random.choice(np.arange(len(action_probs)), p=action_probs)\n",
    "            \n",
    "            #action = np.random.randint(0,2)\n",
    "            \n",
    "            # Take a step\n",
    "            next_state, reward, done, _ = env.step(action)\n",
    "            \n",
    "            stats.episode_rewards[i_episode] += reward\n",
    "            stats.episode_lengths[i_episode] = t\n",
    "            \n",
    "            # TD Update\n",
    "            #q_values_next = estimator.predict(next_state)\n",
    "\n",
    "            #featurize next state and predict its value\n",
    "            phi_ns = featurize_state(next_state)\n",
    "            q_values_next = np.dot(Theta.T,phi_ns)\n",
    "\n",
    "            #estimator.update(state, action, td_target)\n",
    "            Theta += 0.0003*(reward + q_values_next - q_values_s)*phi_s\n",
    "            #Theta[:,action] += 0.1*(reward + np.max(q_values_next) - q_values_s[action])*phi_s\n",
    "            cc+=1\n",
    "            state=next_state\n",
    "            \n",
    "            #evaluate after update to theta\n",
    "            if cc==25:\n",
    "                break\n",
    "            #print(len(rmsbe_states))\n",
    "            for st,nst,rwd in sample_states:\n",
    "               \n",
    "                phis = featurize_state(st)\n",
    "\n",
    "                phins = featurize_state(nst)\n",
    "    \n",
    "                V_values_l = np.dot(Theta.T,phis)\n",
    "                V_target = rwd+np.dot(Theta.T,phins)        \n",
    "                BErms += (V_target - V_values_l)**2\n",
    "            \n",
    "            print('RMSBE: {}'.format(np.sqrt(BErms))) \n",
    "            rms.append(np.sqrt(BErms))   \n",
    "            \n",
    "            #print(\"\\rStep {} @ Episode {}/{} ({})\".format(t, i_episode + 1, num_episodes, last_reward),end=\"\")\n",
    "\n",
    "            if done:\n",
    "                break\n",
    "                \n",
    "            state = next_state\n",
    "    \n",
    "    return stats,rms"
   ]
  },
  {
   "cell_type": "code",
   "execution_count": 92,
   "metadata": {
    "collapsed": false
   },
   "outputs": [
    {
     "name": "stdout",
     "output_type": "stream",
     "text": [
      "RMSBE: 100.03721355054229\n",
      "RMSBE: 100.07449442554382\n",
      "RMSBE: 100.11185732871931\n",
      "RMSBE: 100.14931603780144\n",
      "RMSBE: 100.18688308373102\n",
      "RMSBE: 100.22456946665956\n",
      "RMSBE: 100.2623844249736\n",
      "RMSBE: 100.30033526969244\n",
      "RMSBE: 100.33842729116111\n",
      "RMSBE: 100.37666373863395\n",
      "RMSBE: 100.41504586697546\n",
      "RMSBE: 100.45357303919657\n",
      "RMSBE: 100.49224286973735\n",
      "RMSBE: 100.53105139175263\n",
      "RMSBE: 100.56999323240593\n",
      "RMSBE: 100.60906178305319\n",
      "RMSBE: 100.64824935569636\n",
      "RMSBE: 100.68754732231913\n",
      "RMSBE: 100.7269462388065\n",
      "RMSBE: 100.76643595917496\n",
      "RMSBE: 100.80600574817696\n",
      "RMSBE: 100.84564440071553\n",
      "RMSBE: 100.88534037497863\n",
      "RMSBE: 100.92508194326594\n"
     ]
    }
   ],
   "source": [
    "# Note: For the Mountain Car we don't actually need an epsilon > 0.0\n",
    "# because our initial estimate for all states is too \"optimistic\" which leads\n",
    "# to the exploration of all states.\n",
    "Theta = np.zeros((400,))\n",
    "SGstats,TDrms = sgTD(env, Theta, 1, epsilon=0.0)"
   ]
  },
  {
   "cell_type": "markdown",
   "metadata": {
    "collapsed": true
   },
   "source": [
    "### semi-gradient TD with TDC"
   ]
  },
  {
   "cell_type": "code",
   "execution_count": 94,
   "metadata": {
    "collapsed": false
   },
   "outputs": [],
   "source": [
    "def TDC(env, Theta, num_episodes, discount_factor=1.0, epsilon=0.1, epsilon_decay=1.0):\n",
    "    \"\"\"\n",
    "    Q-Learning algorithm for fff-policy TD control using Function Approximation.\n",
    "    Finds the optimal greedy policy while following an epsilon-greedy policy.\n",
    "    \n",
    "    Args:\n",
    "        env: OpenAI environment.\n",
    "        estimator: Action-Value function estimator\n",
    "        num_episodes: Number of episodes to run for.\n",
    "        discount_factor: Lambda time discount factor.\n",
    "        epsilon: Chance the sample a random action. Float betwen 0 and 1.\n",
    "        epsilon_decay: Each episode, epsilon is decayed by this factor\n",
    "    \n",
    "    Returns:\n",
    "        An EpisodeStats object with two numpy arrays for episode_lengths and episode_rewards.\n",
    "    \"\"\"\n",
    "\n",
    "    # Keeps track of useful statistics\n",
    "    stats = plotting.EpisodeStats(\n",
    "        episode_lengths=np.zeros(num_episodes),\n",
    "        episode_rewards=np.zeros(num_episodes))    \n",
    "    \n",
    "    w_s = np.zeros((400,))\n",
    "    cc=0\n",
    "    rms=[]\n",
    "    for i_episode in range(num_episodes):\n",
    "        \n",
    "        # The policy we're following\n",
    "        policy = make_epsilon_greedy_policy(\n",
    "            Theta, epsilon * epsilon_decay**i_episode, env.action_space.n)\n",
    "        \n",
    "        # Print out which episode we're on, useful for debugging.\n",
    "        # Also print reward for last episode\n",
    "        last_reward = stats.episode_rewards[i_episode - 1]\n",
    "        sys.stdout.flush()\n",
    "        \n",
    "        # Reset the environment and pick the first action\n",
    "        state = env.reset()\n",
    "        \n",
    "        # Only used for SARSA, not Q-Learning\n",
    "        next_action = None\n",
    "        \n",
    "        # One step in the environment\n",
    "        for t in itertools.count():\n",
    "            BErms=0\n",
    "            #featurize present state and predict its value\n",
    "            phi_s = featurize_state(state)\n",
    "            q_values_s = np.dot(Theta.T,phi_s)\n",
    "            \n",
    "            # Choose an action to take\n",
    "            # If we're using SARSA we already decided in the previous step\n",
    "            if next_action is None:\n",
    "                #action_probs = policy(state)\n",
    "                #action = np.random.choice(np.arange(len(action_probs)), p=action_probs)\n",
    "                action = np.random.randint(0,2)\n",
    "            else:\n",
    "                action = next_action\n",
    "            \n",
    "            #action_probs = policy(state)\n",
    "            #action = np.random.choice(np.arange(len(action_probs)), p=action_probs)\n",
    "            \n",
    "            # Take a step\n",
    "            next_state, reward, done, _ = env.step(action)\n",
    "    \n",
    "            # Update statistics\n",
    "            stats.episode_rewards[i_episode] += reward\n",
    "            stats.episode_lengths[i_episode] = t\n",
    "            \n",
    "            # TD Update\n",
    "            #q_values_next = estimator.predict(next_state)\n",
    "\n",
    "            #featurize next state and predict its value\n",
    "            phi_ns = featurize_state(next_state)\n",
    "            q_values_next = np.dot(Theta.T,phi_ns)\n",
    "            \n",
    "            td_error = reward + q_values_next - q_values_s\n",
    "            \n",
    "            Theta += 0.001*td_error*phi_s - 0.1*np.dot(phi_s.T,w_s)*phi_ns\n",
    "            w_s += 0.001*(td_error - np.dot(phi_s.T,w_s))*phi_s\n",
    "            \n",
    "            state=next_state\n",
    "            \n",
    "            if cc==25:\n",
    "                break\n",
    "            cc+=1\n",
    "            \n",
    "            for st,nst,rwd in sample_states:\n",
    "                phis = featurize_state(st)\n",
    "\n",
    "                phins = featurize_state(nst)\n",
    "    \n",
    "                V_values_l = np.dot(Theta.T,phis)\n",
    "                V_target = rwd+np.dot(Theta.T,phins)        \n",
    "                BErms += (V_target - V_values_l)**2\n",
    "            \n",
    "            print('RMSBE: {}'.format(np.sqrt(BErms)))\n",
    "            rms.append(np.sqrt(BErms))\n",
    "            \n",
    "            #print(\"\\rStep {} @ Episode {}/{} ({})\".format(t, i_episode + 1, num_episodes, last_reward),end=\"\")\n",
    "                \n",
    "            if done:\n",
    "                break\n",
    "                \n",
    "            state = next_state\n",
    "    \n",
    "    return stats,rms"
   ]
  },
  {
   "cell_type": "code",
   "execution_count": 95,
   "metadata": {
    "collapsed": false
   },
   "outputs": [
    {
     "name": "stdout",
     "output_type": "stream",
     "text": [
      "RMSBE: 100.1185044071684\n",
      "RMSBE: 100.19237991686738\n",
      "RMSBE: 100.22143246916875\n",
      "RMSBE: 100.2056507953239\n",
      "RMSBE: 100.14501935965971\n",
      "RMSBE: 100.03979782704286\n",
      "RMSBE: 99.88841971108435\n",
      "RMSBE: 99.69223378210833\n",
      "RMSBE: 99.45167606940102\n",
      "RMSBE: 99.16707952523458\n",
      "RMSBE: 98.8352149748361\n",
      "RMSBE: 98.45641671428527\n",
      "RMSBE: 98.03152533133364\n",
      "RMSBE: 97.56367394812703\n",
      "RMSBE: 97.05097866877367\n",
      "RMSBE: 96.4980701411162\n",
      "RMSBE: 95.90540867930224\n",
      "RMSBE: 95.27102419428272\n",
      "RMSBE: 94.59912070489128\n",
      "RMSBE: 93.8886286496779\n",
      "RMSBE: 93.14545821637543\n",
      "RMSBE: 92.37195533135052\n",
      "RMSBE: 91.57048530441752\n",
      "RMSBE: 90.74341969324152\n",
      "RMSBE: 89.88867716246885\n"
     ]
    }
   ],
   "source": [
    "# Note: For the Mountain Car we don't actually need an epsilon > 0.0\n",
    "# because our initial estimate for all states is too \"optimistic\" which leads\n",
    "# to the exploration of all states.\n",
    "Theta1 = np.zeros((400,))\n",
    "TDCstats,TDCrms = TDC(env, Theta1, 100, epsilon=0.0)"
   ]
  },
  {
   "cell_type": "markdown",
   "metadata": {
    "collapsed": true
   },
   "source": [
    "## Least Squares TD"
   ]
  },
  {
   "cell_type": "code",
   "execution_count": 98,
   "metadata": {
    "collapsed": true
   },
   "outputs": [],
   "source": [
    "def sgTD(env, A,b,Theta, num_episodes, discount_factor=1.0, epsilon=0.1, epsilon_decay=1.0):\n",
    "\n",
    "\n",
    "    # Keeps track of useful statistics\n",
    "    stats = plotting.EpisodeStats(\n",
    "        episode_lengths=np.zeros(num_episodes),\n",
    "        episode_rewards=np.zeros(num_episodes))    \n",
    "    \n",
    "    count=0\n",
    "   \n",
    "    cc=0\n",
    "    rms=[]\n",
    "    for i_episode in range(num_episodes):\n",
    "        \n",
    "        # The policy we're following\n",
    "        policy = make_epsilon_greedy_policy(\n",
    "            Theta, epsilon * epsilon_decay**i_episode, env.action_space.n)\n",
    "        \n",
    "        # Print out which episode we're on, useful for debugging.\n",
    "        # Also print reward for last episode\n",
    "        last_reward = stats.episode_rewards[i_episode - 1]\n",
    "        sys.stdout.flush()\n",
    "        \n",
    "        # Reset the environment and pick the first action\n",
    "        #initialize state and corresponding phi\n",
    "        state = env.reset()\n",
    "        \n",
    "        phi_store = np.empty((400,))\n",
    "        # Only used for SARSA, not Q-Learning\n",
    "        #next_action = None\n",
    "    \n",
    "        # One step in the environment\n",
    "        for t in itertools.count():\n",
    "            #featurize present state and predict its value\n",
    "            BErms=0\n",
    "            phi_s = featurize_state(state)\n",
    "            V_values_p = np.dot(Theta.T,phi_s)\n",
    "            \n",
    "            #action_probs = policy(state)\n",
    "            #action = np.random.choice(np.arange(len(action_probs)), p=action_probs)\n",
    "            action = np.random.randint(0,2)\n",
    "            \n",
    "            # Take a step\n",
    "            next_state, reward, done, _ = env.step(action)\n",
    "\n",
    "            # Update statistics\n",
    "            stats.episode_rewards[i_episode] += reward\n",
    "            stats.episode_lengths[i_episode] = t\n",
    "            \n",
    "            # TD Update\n",
    "            #q_values_next = estimator.predict(next_state)\n",
    "\n",
    "            #featurize next state and predict its value\n",
    "            phi_ns = featurize_state(next_state)\n",
    "            \n",
    "            phi_store+=phi_s\n",
    "            d = phi_s.flatten() - phi_ns.flatten()\n",
    "            A= A + np.outer(d,phi_store)\n",
    "            \n",
    "            b =phi_store*reward\n",
    "            \n",
    "            B = np.linalg.pinv(A)\n",
    "            #estimator.update(state, action, td_target)\n",
    "            kk=np.dot(B,b[:,None])\n",
    "            #Estimate new theta\n",
    "            Theta = kk.flatten()\n",
    "            \n",
    "            if cc==25:\n",
    "                break\n",
    "            cc+=1\n",
    "            \n",
    "            for st,nst,rwd in sample_states:\n",
    "                phis = featurize_state(st)\n",
    "\n",
    "                phins = featurize_state(nst)\n",
    "    \n",
    "                V_values_l = np.dot(Theta.T,phis)\n",
    "                V_target = rwd+np.dot(Theta.T,phins)        \n",
    "                BErms += (V_target - V_values_l)**2\n",
    "            \n",
    "            \n",
    "            print('RMSBE: {}'.format(np.sqrt(BErms)))\n",
    "            rms.append(np.sqrt(BErms))\n",
    "            #V_target = reward+np.dot(Theta.T,phi_ns)        \n",
    "            #print(V_target)\n",
    "            \n",
    "\n",
    "            if done:\n",
    "                break\n",
    "                \n",
    "            state = next_state\n",
    "                            \n",
    "    return stats,rms"
   ]
  },
  {
   "cell_type": "code",
   "execution_count": 99,
   "metadata": {
    "collapsed": false
   },
   "outputs": [
    {
     "name": "stdout",
     "output_type": "stream",
     "text": [
      "RMSBE: 100.08303938796101\n",
      "RMSBE: 100.01029754224906\n",
      "RMSBE: 100.00641339955686\n",
      "RMSBE: 100.00514831604242\n",
      "RMSBE: 100.0046129006549\n",
      "RMSBE: 100.00439639215725\n",
      "RMSBE: 100.00435679761974\n",
      "RMSBE: 100.00489942858476\n",
      "RMSBE: 100.00491058946662\n",
      "RMSBE: 100.00501527040059\n",
      "RMSBE: 100.00518372629885\n",
      "RMSBE: 100.00573683672621\n",
      "RMSBE: 100.00589883549696\n",
      "RMSBE: 100.00642749272521\n",
      "RMSBE: 100.0069215674021\n",
      "RMSBE: 100.00701397456264\n",
      "RMSBE: 100.00743855960978\n",
      "RMSBE: 100.00779334435803\n",
      "RMSBE: 100.00782170018951\n",
      "RMSBE: 100.00785896258886\n",
      "RMSBE: 100.00790089741857\n",
      "RMSBE: 100.00794452818968\n",
      "RMSBE: 100.00811939273947\n",
      "RMSBE: 100.00819536144472\n",
      "RMSBE: 100.00818657834799\n"
     ]
    }
   ],
   "source": [
    "# Note: For the Mountain Car we don't actually need an epsilon > 0.0\n",
    "# because our initial estimate for all states is too \"optimistic\" which leads\n",
    "# to the exploration of all states.\n",
    "epsilon = np.eye(400)*np.random.normal(size=(400,))\n",
    "A = np.zeros((400,400))+epsilon\n",
    "b = np.zeros((400,))\n",
    "LDTheta = np.zeros((400,))\n",
    "\n",
    "LDstats,LDrms = sgTD(env,A,b,LDTheta,1, epsilon=0.0)"
   ]
  },
  {
   "cell_type": "markdown",
   "metadata": {},
   "source": [
    "## Figure"
   ]
  },
  {
   "cell_type": "code",
   "execution_count": 103,
   "metadata": {
    "collapsed": false
   },
   "outputs": [
    {
     "data": {
      "image/png": "[encoded data removed]",
      "text/plain": [
       "<matplotlib.figure.Figure at 0x7f8a9f6f3080>"
      ]
     },
     "metadata": {},
     "output_type": "display_data"
    }
   ],
   "source": [
    "TDrms = np.asarray(TDrms,dtype='float32')\n",
    "TDCrms = np.asarray(TDCrms,dtype='float32')\n",
    "LDrms = np.asarray(LDrms,dtype='float32')\n",
    "plt.plot(TDrms)\n",
    "plt.plot(TDCrms)\n",
    "plt.plot(LDrms)\n",
    "plt.legend(['TD(0)', 'TDC', 'lsTD'], loc='lower left')\n",
    "plt.show()"
   ]
  }
 ],
 "metadata": {
  "kernelspec": {
   "display_name": "Python 3",
   "language": "python",
   "name": "python3"
  },
  "language_info": {
   "codemirror_mode": {
    "name": "ipython",
    "version": 3
   },
   "file_extension": ".py",
   "mimetype": "text/x-python",
   "name": "python",
   "nbconvert_exporter": "python",
   "pygments_lexer": "ipython3",
   "version": "3.6.0"
  }
 },
 "nbformat": 4,
 "nbformat_minor": 0
}
